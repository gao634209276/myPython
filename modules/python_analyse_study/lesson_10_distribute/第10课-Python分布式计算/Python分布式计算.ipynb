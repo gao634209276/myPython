{
 "cells": [
  {
   "cell_type": "markdown",
   "metadata": {},
   "source": [
    "## 1. 多线程Threding和多进程Multiprocessing"
   ]
  },
  {
   "cell_type": "markdown",
   "metadata": {},
   "source": [
    "### 顺序执行单线程与同时执行两个并发线程"
   ]
  },
  {
   "cell_type": "code",
   "execution_count": 1,
   "metadata": {
    "collapsed": false
   },
   "outputs": [
    {
     "name": "stdout",
     "output_type": "stream",
     "text": [
      "Total time: 34.5584599972\n"
     ]
    }
   ],
   "source": [
    "from threading import Thread\n",
    "import time\n",
    "\n",
    "def my_counter():\n",
    "    i = 0\n",
    "    for _ in range(100000000):\n",
    "        i = i + 1\n",
    "    return True\n",
    "\n",
    "def main():\n",
    "    thread_array = {}\n",
    "    start_time = time.time()\n",
    "    for tid in range(2):\n",
    "        t = Thread(target=my_counter)\n",
    "        t.start()\n",
    "        t.join()\n",
    "    end_time = time.time()\n",
    "    print(\"Total time: {}\".format(end_time - start_time))\n",
    "\n",
    "if __name__ == '__main__':\n",
    "    main()"
   ]
  },
  {
   "cell_type": "code",
   "execution_count": 2,
   "metadata": {
    "collapsed": false
   },
   "outputs": [
    {
     "name": "stdout",
     "output_type": "stream",
     "text": [
      "Total time: 45.1772201061\n"
     ]
    }
   ],
   "source": [
    "from threading import Thread\n",
    "import time\n",
    "\n",
    "def my_counter():\n",
    "    i = 0\n",
    "    for _ in range(100000000):\n",
    "        i = i + 1\n",
    "    return True\n",
    "\n",
    "def main():\n",
    "    thread_array = {}\n",
    "    start_time = time.time()\n",
    "    for tid in range(2):\n",
    "        t = Thread(target=my_counter)\n",
    "        t.start()\n",
    "        thread_array[tid] = t\n",
    "    for i in range(2):\n",
    "        thread_array[i].join()\n",
    "    end_time = time.time()\n",
    "    print(\"Total time: {}\".format(end_time - start_time))\n",
    "\n",
    "if __name__ == '__main__':\n",
    "    main()"
   ]
  },
  {
   "cell_type": "markdown",
   "metadata": {},
   "source": [
    "### 多进程multiprocessing"
   ]
  },
  {
   "cell_type": "code",
   "execution_count": 3,
   "metadata": {
    "collapsed": false
   },
   "outputs": [
    {
     "name": "stdout",
     "output_type": "stream",
     "text": [
      "0\n",
      "1\n",
      "4\n",
      "9\n",
      "16\n",
      "25\n",
      "36\n",
      "49\n",
      "64\n",
      "81\n"
     ]
    }
   ],
   "source": [
    "from multiprocessing import Process\n",
    "import time\n",
    " \n",
    "def f(n):\n",
    "    time.sleep(1)\n",
    "    print n*n\n",
    "\n",
    "if __name__=='__main__':\n",
    "    for i in range(10):\n",
    "        p = Process(target=f,args=[i,])\n",
    "        p.start()"
   ]
  },
  {
   "cell_type": "markdown",
   "metadata": {},
   "source": [
    "### 进程间通信Queue"
   ]
  },
  {
   "cell_type": "code",
   "execution_count": 4,
   "metadata": {
    "collapsed": false
   },
   "outputs": [
    {
     "name": "stdout",
     "output_type": "stream",
     "text": [
      "Put A to queue\n",
      "get A from queue\n",
      "Put B to queue\n",
      "get B from queue\n",
      "Put C to queue\n",
      "get C from queue\n",
      "Put D to queue\n",
      "get D from queue\n",
      "Put E to queue\n",
      "get E from queue\n"
     ]
    }
   ],
   "source": [
    "from multiprocessing import Process, Queue\n",
    "import time\n",
    " \n",
    "def write(q):\n",
    "    for i in ['A','B','C','D','E']:\n",
    "        print('Put %s to queue' % i)\n",
    "        q.put(i)\n",
    "        time.sleep(0.5)\n",
    " \n",
    "def read(q):\n",
    "    while True:\n",
    "        v = q.get(True)\n",
    "        print('get %s from queue' %v)\n",
    "        if(v == 'E'): break;\n",
    " \n",
    "if __name__ == '__main__':\n",
    "    q = Queue()\n",
    "    pw = Process(target=write,args=(q,))\n",
    "    pr = Process(target=read,args=(q,))\n",
    "    pw.start()\n",
    "    pr.start()\n",
    "    pr.join()\n",
    "    pr.terminate()"
   ]
  },
  {
   "cell_type": "markdown",
   "metadata": {},
   "source": [
    "### 进程池Pool"
   ]
  },
  {
   "cell_type": "code",
   "execution_count": 5,
   "metadata": {
    "collapsed": false
   },
   "outputs": [
    {
     "name": "stdout",
     "output_type": "stream",
     "text": [
      "0\n",
      "4\n",
      "1\n",
      "9\n",
      "16\n",
      "('-------:', 0)\n",
      "('-------:', 1)\n",
      "('-------:', 2)\n",
      "('-------:', 3)\n",
      "('-------:', 4)\n",
      "('-------:', 5)\n",
      "('-------:', 6)\n",
      "('-------:', 7)\n",
      "('-------:', 8)\n",
      "('-------:', 9)\n",
      "25\n",
      "36\n",
      "49\n",
      "64\n",
      "81\n",
      "result 0\n",
      "result 1\n",
      "result 4\n",
      "result 9\n",
      "result 16\n",
      "result 25\n",
      "result 36\n",
      "result 49\n",
      "result 64\n",
      "result 81\n"
     ]
    }
   ],
   "source": [
    "from multiprocessing import Pool\n",
    "import time\n",
    " \n",
    "def f(x):\n",
    "    print x*x\n",
    "    time.sleep(2)\n",
    "    return x*x\n",
    "if __name__ == '__main__':\n",
    "    '''定义启动的进程数量'''\n",
    "    pool = Pool(processes=5)\n",
    "    res_list = []\n",
    "\n",
    "    for i in range(10):\n",
    "        '''以异步并行的方式启动进程，如果要同步等待的方式，可以在每次启动进程之后调用res.get()方法，也可以使用Pool.apply'''\n",
    "        res = pool.apply_async(f,[i,]) \n",
    "        print('-------:',i)\n",
    "        res_list.append(res)\n",
    "    pool.close()\n",
    "    pool.join()\n",
    "    for r in res_list:\n",
    "        print \"result\",(r.get(timeout=5))"
   ]
  },
  {
   "cell_type": "markdown",
   "metadata": {},
   "source": [
    "### 多进程与多线程对比"
   ]
  },
  {
   "cell_type": "code",
   "execution_count": 6,
   "metadata": {
    "collapsed": false
   },
   "outputs": [
    {
     "name": "stdout",
     "output_type": "stream",
     "text": [
      "[0]\n",
      "\n",
      "[1]\n",
      "\n",
      "[2]\n",
      "\n",
      "[3]\n",
      "\n",
      "[4]\n",
      "\n",
      "[5]\n",
      "\n",
      "[6]\n",
      "\n",
      "[7]\n",
      "\n",
      "[8]\n",
      "\n",
      "[9]\n",
      "\n",
      "------------threading--------------\n",
      "[0]\n",
      "\n",
      "[0, 1]\n",
      "\n",
      "[0, 1, 2]\n",
      "\n",
      "[0, 1, 2, 3]\n",
      "\n",
      "[0, 1, 2, 3, 4]\n",
      "\n",
      "[0, 1, 2, 3, 4, 5]\n",
      "\n",
      "[0, 1, 2, 3, 4, 5, 6]\n",
      "\n",
      "[0, 1, 2, 3, 4, 5, 6, 7]\n",
      "\n",
      "[0, 1, 2, 3, 4, 5, 6, 7, 8]\n",
      "\n",
      "[0, 1, 2, 3, 4, 5, 6, 7, 8, 9]\n",
      "\n"
     ]
    }
   ],
   "source": [
    "from multiprocessing import Process\n",
    "import threading\n",
    "import time\n",
    "lock = threading.Lock()\n",
    " \n",
    "def run(info_list,n):\n",
    "    lock.acquire()\n",
    "    info_list.append(n)\n",
    "    lock.release()\n",
    "    print('%s\\n' % info_list)\n",
    "    \n",
    "if __name__=='__main__':\n",
    "    info = []\n",
    "    for i in range(10):\n",
    "        #target为子进程执行的函数，args为需要给函数传递的参数 \n",
    "        p = Process(target=run,args=[info,i])\n",
    "        p.start()\n",
    "        p.join()\n",
    "    time.sleep(1) #这里是为了输出整齐让主进程的执行等一下子进程\n",
    "    print('------------threading--------------')\n",
    "    for i in range(10):\n",
    "        p = threading.Thread(target=run,args=[info,i])\n",
    "        p.start()\n",
    "        p.join()"
   ]
  },
  {
   "cell_type": "markdown",
   "metadata": {},
   "source": [
    "## 2. 函数式编程 & （lambda、map、filter、reduce）"
   ]
  },
  {
   "cell_type": "code",
   "execution_count": 7,
   "metadata": {
    "collapsed": false
   },
   "outputs": [
    {
     "name": "stdout",
     "output_type": "stream",
     "text": [
      "7\n",
      "10\n"
     ]
    }
   ],
   "source": [
    "def inc(x):\n",
    "    def incx(y):\n",
    "        return x+y\n",
    "    return incx\n",
    " \n",
    "inc2 = inc(2)\n",
    "inc5 = inc(5)\n",
    " \n",
    "print inc2(5) # 输出 7\n",
    "print inc5(5) # 输出 10"
   ]
  },
  {
   "cell_type": "code",
   "execution_count": 8,
   "metadata": {
    "collapsed": false
   },
   "outputs": [
    {
     "name": "stdout",
     "output_type": "stream",
     "text": [
      "6\n",
      "8\n"
     ]
    }
   ],
   "source": [
    "g = lambda x: x * 2\n",
    "print g(3)\n",
    "print (lambda x: x * 2)(4)"
   ]
  },
  {
   "cell_type": "code",
   "execution_count": 9,
   "metadata": {
    "collapsed": false
   },
   "outputs": [
    {
     "name": "stdout",
     "output_type": "stream",
     "text": [
      "2\n",
      "3\n",
      "4\n"
     ]
    }
   ],
   "source": [
    "for n in [\"qi\", \"yue\", \"July\"]:\n",
    "    print len(n)"
   ]
  },
  {
   "cell_type": "code",
   "execution_count": 10,
   "metadata": {
    "collapsed": false
   },
   "outputs": [
    {
     "name": "stdout",
     "output_type": "stream",
     "text": [
      "[2, 3, 4]\n"
     ]
    }
   ],
   "source": [
    "name_len = map(len, [\"qi\", \"yue\", \"July\"])\n",
    "print name_len"
   ]
  },
  {
   "cell_type": "code",
   "execution_count": 11,
   "metadata": {
    "collapsed": false
   },
   "outputs": [
    {
     "name": "stdout",
     "output_type": "stream",
     "text": [
      "['QI', 'YUE', 'JULY']\n"
     ]
    }
   ],
   "source": [
    "def toUpper(item):\n",
    "      return item.upper()\n",
    " \n",
    "upper_name = map(toUpper, [\"qi\", \"yue\", \"July\"])\n",
    "print upper_name"
   ]
  },
  {
   "cell_type": "code",
   "execution_count": 12,
   "metadata": {
    "collapsed": false
   },
   "outputs": [
    {
     "name": "stdout",
     "output_type": "stream",
     "text": [
      "[1, 4, 9, 16, 25]\n"
     ]
    }
   ],
   "source": [
    "items = [1, 2, 3, 4, 5]\n",
    "squared = []\n",
    "for i in items:\n",
    "    squared.append(i**2)\n",
    "print squared"
   ]
  },
  {
   "cell_type": "code",
   "execution_count": 13,
   "metadata": {
    "collapsed": false
   },
   "outputs": [
    {
     "name": "stdout",
     "output_type": "stream",
     "text": [
      "[1, 4, 9, 16, 25]\n"
     ]
    }
   ],
   "source": [
    "items = [1, 2, 3, 4, 5]\n",
    "squared = list(map(lambda x: x**2, items))\n",
    "print squared"
   ]
  },
  {
   "cell_type": "code",
   "execution_count": 14,
   "metadata": {
    "collapsed": false
   },
   "outputs": [
    {
     "name": "stdout",
     "output_type": "stream",
     "text": [
      "[-5, -4, -3, -2, -1]\n"
     ]
    }
   ],
   "source": [
    "number_list = range(-5, 5)\n",
    "less_than_zero = list(filter(lambda x: x < 0, number_list))\n",
    "print(less_than_zero)"
   ]
  },
  {
   "cell_type": "code",
   "execution_count": 15,
   "metadata": {
    "collapsed": false
   },
   "outputs": [
    {
     "name": "stdout",
     "output_type": "stream",
     "text": [
      "10\n",
      "20\n"
     ]
    }
   ],
   "source": [
    "def add(x,y): return x + y\n",
    "print reduce(add, range(1, 5))\n",
    "print reduce(add, range(1, 5), 10)"
   ]
  },
  {
   "cell_type": "markdown",
   "metadata": {},
   "source": [
    "### 例：计算数组中的平均数"
   ]
  },
  {
   "cell_type": "code",
   "execution_count": 16,
   "metadata": {
    "collapsed": false
   },
   "outputs": [
    {
     "name": "stdout",
     "output_type": "stream",
     "text": [
      "5\n"
     ]
    }
   ],
   "source": [
    "# 正常写法：\n",
    "num =[2, -5, 9, 7, -2, 5, 3, 1, 0, -3, 8]\n",
    "positive_num_cnt = 0\n",
    "positive_num_sum = 0\n",
    "for i in range(len(num)):\n",
    "    if num[i] > 0:\n",
    "        positive_num_cnt += 1\n",
    "        positive_num_sum += num[i]\n",
    " \n",
    "if positive_num_cnt > 0:\n",
    "    average = positive_num_sum / positive_num_cnt\n",
    " \n",
    "print average\n",
    "# 输出 5"
   ]
  },
  {
   "cell_type": "code",
   "execution_count": 17,
   "metadata": {
    "collapsed": false
   },
   "outputs": [
    {
     "name": "stdout",
     "output_type": "stream",
     "text": [
      "5\n"
     ]
    }
   ],
   "source": [
    "# 函数式写法：\n",
    "num =[2, -5, 9, 7, -2, 5, 3, 1, 0, -3, 8]\n",
    "positive_num = filter(lambda x: x>0, num)\n",
    "average = reduce(lambda x,y: x+y, positive_num) / len( positive_num )\n",
    "print average"
   ]
  },
  {
   "cell_type": "markdown",
   "metadata": {},
   "source": [
    "## pyspark"
   ]
  },
  {
   "cell_type": "code",
   "execution_count": 18,
   "metadata": {
    "collapsed": false
   },
   "outputs": [],
   "source": [
    "import sys\n",
    "from operator import add\n",
    "from pyspark import SparkContext\n",
    "sc = SparkContext()"
   ]
  },
  {
   "cell_type": "code",
   "execution_count": 19,
   "metadata": {
    "collapsed": false
   },
   "outputs": [
    {
     "name": "stdout",
     "output_type": "stream",
     "text": [
      "Tyrion: 36\n",
      "Jon: 26\n",
      "Sansa: 26\n",
      "Robb: 25\n",
      "Jaime: 24\n",
      "Tywin: 22\n",
      "Cersei: 20\n",
      "Arya: 19\n",
      "Robert: 18\n",
      "Joffrey: 18\n"
     ]
    }
   ],
   "source": [
    "lines = sc.textFile(\"stormofswords.csv\")\n",
    "counts = lines.flatMap(lambda x: x.split(',')) \\\n",
    "              .map(lambda x: (x, 1)) \\\n",
    "              .reduceByKey(add)\n",
    "output = counts.collect()\n",
    "output = filter(lambda x:not x[0].isnumeric(), sorted(output, key=lambda x:x[1], reverse = True))\n",
    "for (word, count) in output[:10]:\n",
    "    print \"%s: %i\" % (word, count)\n",
    "\n",
    "sc.stop()"
   ]
  }
 ],
 "metadata": {
  "anaconda-cloud": {},
  "kernelspec": {
   "display_name": "Python [Root]",
   "language": "python",
   "name": "Python [Root]"
  },
  "language_info": {
   "codemirror_mode": {
    "name": "ipython",
    "version": 2
   },
   "file_extension": ".py",
   "mimetype": "text/x-python",
   "name": "python",
   "nbconvert_exporter": "python",
   "pygments_lexer": "ipython2",
   "version": "2.7.12"
  }
 },
 "nbformat": 4,
 "nbformat_minor": 0
}
